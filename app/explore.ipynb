{
 "cells": [
  {
   "cell_type": "code",
   "execution_count": 2,
   "metadata": {},
   "outputs": [],
   "source": [
    "import pandas as pd"
   ]
  },
  {
   "cell_type": "code",
   "execution_count": 4,
   "metadata": {},
   "outputs": [
    {
     "data": {
      "text/plain": [
       "['Aortic enlargement_proba',\n",
       " 'Atelectasis_proba',\n",
       " 'Calcification_proba',\n",
       " 'Cardiomegaly_proba',\n",
       " 'Consolidation_proba',\n",
       " 'ILD_proba',\n",
       " 'Infiltration_proba',\n",
       " 'Lung Opacity_proba',\n",
       " 'Nodule/Mass_proba',\n",
       " 'Other lesion_proba',\n",
       " 'Pleural effusion_proba',\n",
       " 'Pleural thickening_proba',\n",
       " 'Pneumothorax_proba',\n",
       " 'Pulmonary fibrosis_proba',\n",
       " 'No finding_proba']"
      ]
     },
     "execution_count": 4,
     "metadata": {},
     "output_type": "execute_result"
    }
   ],
   "source": [
    "threshold_df = pd.read_json(f'./save/threshold/vin_cls_v3_val_threshold.json')\n",
    "threshold_dict = threshold_df['G-Mean'].to_dict()\n",
    "# threshold_dict = threshold_df['F1_Score'].to_dict()\n",
    "CATEGORIES = list(threshold_dict.keys())\n",
    "class_proba = [finding+'_proba' for finding in CATEGORIES]\n",
    "class_proba"
   ]
  },
  {
   "cell_type": "code",
   "execution_count": 9,
   "metadata": {},
   "outputs": [
    {
     "name": "stdout",
     "output_type": "stream",
     "text": [
      "(1500, 15)\n"
     ]
    },
    {
     "data": {
      "text/plain": [
       "array([[2.9426054e-04, 2.2396045e-04, 3.3528297e-04, ..., 1.1537689e-04,\n",
       "        3.6031840e-04, 9.9891000e-01],\n",
       "       [2.8567530e-04, 7.9774890e-05, 6.9855683e-04, ..., 5.2153400e-05,\n",
       "        4.0135650e-04, 9.9983380e-01],\n",
       "       [9.9384760e-01, 1.3568772e-02, 2.8936759e-02, ..., 5.0129830e-03,\n",
       "        1.6772324e-01, 1.8362593e-02],\n",
       "       ...,\n",
       "       [9.0325410e-01, 1.3971618e-02, 9.6087650e-02, ..., 4.7003664e-03,\n",
       "        6.1845490e-01, 4.4609107e-02],\n",
       "       [6.5616740e-04, 3.3276160e-04, 1.1255955e-03, ..., 4.6329334e-04,\n",
       "        9.9444420e-04, 9.7909800e-01],\n",
       "       [7.2212030e-04, 1.1592530e-04, 4.2364074e-04, ..., 8.4616760e-05,\n",
       "        3.8251374e-04, 9.9623334e-01]])"
      ]
     },
     "execution_count": 9,
     "metadata": {},
     "output_type": "execute_result"
    }
   ],
   "source": [
    "pred_val = pd.read_csv('save/val_predict/vin_cls_v3_val.csv', usecols=class_proba).values\n",
    "print(pred_val.shape)\n",
    "pred_val"
   ]
  },
  {
   "cell_type": "code",
   "execution_count": 7,
   "metadata": {},
   "outputs": [
    {
     "name": "stdout",
     "output_type": "stream",
     "text": [
      "(63629, 40)\n"
     ]
    },
    {
     "data": {
      "text/plain": [
       "array([[1.98032111e-01, 1.55254025e-02, 1.51339680e-01, ...,\n",
       "        2.78407801e-02, 3.77766858e-03, 1.00034457e-02],\n",
       "       [3.31963226e-02, 4.54194471e-03, 2.11135652e-02, ...,\n",
       "        1.62422694e-02, 3.33467964e-03, 3.19635510e-01],\n",
       "       [9.59286653e-03, 4.79873875e-03, 3.66506167e-02, ...,\n",
       "        1.00877862e-02, 2.40074517e-03, 1.39671594e-01],\n",
       "       ...,\n",
       "       [5.46776414e-01, 5.09443088e-03, 2.04281434e-01, ...,\n",
       "        8.32436383e-02, 3.66099598e-03, 7.74999571e-05],\n",
       "       [7.66321123e-01, 1.48036284e-03, 2.50091162e-02, ...,\n",
       "        1.53642027e-02, 1.04288710e-03, 7.64336146e-05],\n",
       "       [8.03318322e-01, 7.70387182e-04, 1.17977513e-02, ...,\n",
       "        1.27836037e-02, 9.10617644e-04, 9.11620155e-05]], dtype=float32)"
      ]
     },
     "execution_count": 7,
     "metadata": {},
     "output_type": "execute_result"
    }
   ],
   "source": [
    "import pickle\n",
    "\n",
    "with open('save/val_predict/out_val_selectRad_data_pylon_densenet169_ImageNet_1024_V2_0.p', 'rb') as fp:\n",
    "    val_predict = pickle.load(fp)\n",
    "pred_val = val_predict['pred']\n",
    "print(pred_val.shape)\n",
    "pred_val"
   ]
  },
  {
   "cell_type": "code",
   "execution_count": null,
   "metadata": {},
   "outputs": [],
   "source": []
  },
  {
   "cell_type": "code",
   "execution_count": null,
   "metadata": {},
   "outputs": [],
   "source": []
  },
  {
   "cell_type": "code",
   "execution_count": 1,
   "metadata": {},
   "outputs": [
    {
     "name": "stdout",
     "output_type": "stream",
     "text": [
      "Renamed: 09718eae273ebf9f6cb11ed3134cf1d9_No finding.png -> No finding.png\n",
      "Renamed: a68f8cf139999708da7b3aa3e6594d4a_No finding.png -> No finding_1.png\n",
      "Renamed: 1a6a5124eb0cfe85fac933968f9ecdd2_No finding.png -> No finding_2.png\n",
      "Renamed: 00053190460d56c53cc3e57321387478_No finding.png -> No finding_3.png\n",
      "Renamed: 19b51cda56e42d3fd879b996c986bbc1_No finding.png -> No finding_4.png\n",
      "Renamed: e07370f1e7db805fc6bf266e1557922b_No finding.png -> No finding_5.png\n",
      "Renamed: 6ada6149fec45a9046dbfe15e3459ec8_Aortic enlargement_Lung Opacity_Other lesion_Pleural effusion_Pleural thickening_Pneumothorax_Pulmonary fibrosis.png -> Aortic enlargement_Lung Opacity_Other lesion_Pleural effusion_Pleural thickening_Pneumothorax_Pulmonary fibrosis.png\n",
      "Renamed: 1ecc10ca44af4ff9638ab9723ba974cb_No finding.png -> No finding_6.png\n",
      "Renamed: 305e4add9c72c91e9984305bf4e85aee_Atelectasis_Infiltration_Lung Opacity_Other lesion_Pleural effusion_Pleural thickening_Pneumothorax_Pulmonary fibrosis.png -> Atelectasis_Infiltration_Lung Opacity_Other lesion_Pleural effusion_Pleural thickening_Pneumothorax_Pulmonary fibrosis.png\n",
      "Renamed: 5673fae597c1b5218f79eead1f413da6_Cardiomegaly_Consolidation_Infiltration_Lung Opacity_Nodule-Mass_Other lesion_Pleural effusion_Pleural thickening_Pulmonary fibrosis.png -> Cardiomegaly_Consolidation_Infiltration_Lung Opacity_Nodule-Mass_Other lesion_Pleural effusion_Pleural thickening_Pulmonary fibrosis.png\n",
      "Renamed: 1d21c69075630b741fe0629e696fa167_Aortic enlargement_Cardiomegaly_Lung Opacity_Nodule-Mass_Other lesion.png -> Aortic enlargement_Cardiomegaly_Lung Opacity_Nodule-Mass_Other lesion.png\n",
      "Renamed: 4308b795084095f21117491e3b07f2a7_Aortic enlargement_Nodule-Mass_Pleural effusion_Pleural thickening_Pneumothorax_Pulmonary fibrosis.png -> Aortic enlargement_Nodule-Mass_Pleural effusion_Pleural thickening_Pneumothorax_Pulmonary fibrosis.png\n",
      "Renamed: 4ba1d94812bf9828f4bb2c37e9faca4a_No finding.png -> No finding_7.png\n",
      "Renamed: d42d27467595a3a181d3b5c1e67746fa_No finding.png -> No finding_8.png\n",
      "Renamed: 5b65be064e0cee0795a5c98148360b63_No finding.png -> No finding_9.png\n",
      "Renamed: 525d1a20bd32069f473883c23c8d2948_No finding.png -> No finding_10.png\n",
      "Renamed: 15891351447c97274b4efda7d3c3cd5d_No finding.png -> No finding_11.png\n",
      "Renamed: ff343db6538b6a6a043a5ec108df37dd_No finding.png -> No finding_12.png\n",
      "Renamed: 4b91d54f3170a9c8a757e6acd6c25588_Atelectasis_Cardiomegaly_Consolidation_ILD_Infiltration_Lung Opacity_Nodule-Mass_Pulmonary fibrosis.png -> Atelectasis_Cardiomegaly_Consolidation_ILD_Infiltration_Lung Opacity_Nodule-Mass_Pulmonary fibrosis.png\n",
      "Renamed: 04f3e0ba1b46a723e88d7331f5e21419_No finding.png -> No finding_13.png\n",
      "Renamed: 11dbd33fc77075c94a202362ed8e197e_Aortic enlargement_Consolidation_Lung Opacity_Nodule-Mass_Other lesion_Pleural effusion_Pleural thickening_Pulmonary fibrosis.png -> Aortic enlargement_Consolidation_Lung Opacity_Nodule-Mass_Other lesion_Pleural effusion_Pleural thickening_Pulmonary fibrosis.png\n",
      "Renamed: 1df1184c21fb2bc9b911e354fcd59cc9_No finding.png -> No finding_14.png\n",
      "Renamed: 4d5ab3eec9e1fb63242d9334fa52b1fd_No finding.png -> No finding_15.png\n",
      "Renamed: dd5891d85374e6b9e666dbfdec5ce508_No finding.png -> No finding_16.png\n",
      "Renamed: 232b4cd787e3298d208b3466831f60fb_No finding.png -> No finding_17.png\n",
      "Renamed: e1e596163010acb347ac7fa1a48d8d9c_Atelectasis_Cardiomegaly_Consolidation_Lung Opacity_Other lesion_Pleural effusion_Pleural thickening.png -> Atelectasis_Cardiomegaly_Consolidation_Lung Opacity_Other lesion_Pleural effusion_Pleural thickening.png\n",
      "Renamed: 5bbee8da980e978d65bfa78521a940a6_No finding.png -> No finding_18.png\n",
      "Renamed: d69c970d9c790b8813f5b0d0964e6a55_No finding.png -> No finding_19.png\n",
      "Renamed: 5de91fab780d937e6cba46c4e807bb12_Atelectasis_Calcification_Cardiomegaly_Lung Opacity_Nodule-Mass_Pleural effusion_Pleural thickening_Pulmonary fibrosis.png -> Atelectasis_Calcification_Cardiomegaly_Lung Opacity_Nodule-Mass_Pleural effusion_Pleural thickening_Pulmonary fibrosis.png\n",
      "Renamed: d70837c881f01f8c51afe9616879de50_Aortic enlargement_Atelectasis_Lung Opacity_Other lesion_Pleural effusion_Pleural thickening_Pulmonary fibrosis.png -> Aortic enlargement_Atelectasis_Lung Opacity_Other lesion_Pleural effusion_Pleural thickening_Pulmonary fibrosis.png\n",
      "Renamed: db8ea8826fe736f38ec2d204dd418252_No finding.png -> No finding_20.png\n",
      "Renamed: fb320136aa9663b6db171a898dbd5dba_No finding.png -> No finding_21.png\n",
      "Renamed: 4e768f77541065c7e5465fc8e049e2d0_Aortic enlargement_Lung Opacity_Pleural effusion_Pleural thickening.png -> Aortic enlargement_Lung Opacity_Pleural effusion_Pleural thickening.png\n",
      "Renamed: 8f79f74f8135b22982836178f2bc751a_No finding.png -> No finding_22.png\n",
      "Renamed: a4fc9faa46af26c5fc462772d88d0af3_Aortic enlargement_Consolidation_Infiltration_Lung Opacity_Nodule-Mass_Other lesion_Pleural effusion_Pleural thickening_Pulmonary fibrosis.png -> Aortic enlargement_Consolidation_Infiltration_Lung Opacity_Nodule-Mass_Other lesion_Pleural effusion_Pleural thickening_Pulmonary fibrosis.png\n",
      "Renamed: 30735b86eb6369c2b479dde885baafdd_No finding.png -> No finding_23.png\n",
      "Renamed: e4d919ecede4ac171b4815ba0863f2f7_Aortic enlargement_Cardiomegaly_Consolidation_Lung Opacity_Other lesion_Pleural effusion_Pleural thickening_Pulmonary fibrosis.png -> Aortic enlargement_Cardiomegaly_Consolidation_Lung Opacity_Other lesion_Pleural effusion_Pleural thickening_Pulmonary fibrosis.png\n",
      "Renamed: c41d4f698ccccbf7068c44c8c14f4e16_Aortic enlargement_Calcification_ILD_Lung Opacity_Nodule-Mass_Other lesion_Pleural effusion_Pleural thickening.png -> Aortic enlargement_Calcification_ILD_Lung Opacity_Nodule-Mass_Other lesion_Pleural effusion_Pleural thickening.png\n",
      "Renamed: ae3382840414ce4de46c3827674b9709_Aortic enlargement_Cardiomegaly_Consolidation_Infiltration_Lung Opacity_Other lesion_Pleural effusion_Pleural thickening_Pulmonary fibrosis.png -> Aortic enlargement_Cardiomegaly_Consolidation_Infiltration_Lung Opacity_Other lesion_Pleural effusion_Pleural thickening_Pulmonary fibrosis.png\n",
      "Renamed: 181a28291c7bc0a6a721a5759c01fd34_Aortic enlargement_Calcification_Cardiomegaly_Infiltration_Lung Opacity_Pleural effusion_Pleural thickening_Pulmonary fibrosis.png -> Aortic enlargement_Calcification_Cardiomegaly_Infiltration_Lung Opacity_Pleural effusion_Pleural thickening_Pulmonary fibrosis.png\n",
      "Renamed: 31734de44c85edfa9197b8b82beb8b9f_No finding.png -> No finding_24.png\n",
      "Renamed: c42997b00e59f4523788aa9fbe1f7526_Aortic enlargement_Consolidation_ILD_Lung Opacity_Nodule-Mass_Other lesion_Pleural effusion_Pleural thickening_Pulmonary fibrosis.png -> Aortic enlargement_Consolidation_ILD_Lung Opacity_Nodule-Mass_Other lesion_Pleural effusion_Pleural thickening_Pulmonary fibrosis.png\n",
      "Renamed: b6d81cd3e996c836eeeadcc896afdfe4_Aortic enlargement_Calcification_Cardiomegaly_Nodule-Mass_Pleural thickening_Pulmonary fibrosis.png -> Aortic enlargement_Calcification_Cardiomegaly_Nodule-Mass_Pleural thickening_Pulmonary fibrosis.png\n",
      "Renamed: d424e0d9251c41b8c8bbf3cc2c445f6f_No finding.png -> No finding_25.png\n",
      "Renamed: 4f88ef0610cf30530d9492bf9980ffdd_No finding.png -> No finding_26.png\n",
      "Renamed: 77192a2343f2b1c0daae17b72219b050_No finding.png -> No finding_27.png\n",
      "Renamed: ddbe41935f4c7c4c6624654585e12652_No finding.png -> No finding_28.png\n",
      "Renamed: fc9792581d7190c4b20c3e436e2d91bb_No finding.png -> No finding_29.png\n",
      "Renamed: 4bc187f73382906f3da22dd5ab8de865_No finding.png -> No finding_30.png\n",
      "Renamed: 6c79f2551808438721052023e043ab4d_Aortic enlargement_Cardiomegaly_Consolidation_Infiltration_Lung Opacity_Nodule-Mass_Other lesion_Pleural effusion.png -> Aortic enlargement_Cardiomegaly_Consolidation_Infiltration_Lung Opacity_Nodule-Mass_Other lesion_Pleural effusion.png\n",
      "Renamed: f586cbaa1c54d23a3798639cc1dcee49_No finding.png -> No finding_31.png\n",
      "Renamed: 34cd20b9b98cd2817d460a6033e34b95_No finding.png -> No finding_32.png\n",
      "Renamed: 8f98e3e6e86e573a6bd32403086b3707_Aortic enlargement_Cardiomegaly_Consolidation_Lung Opacity_Nodule-Mass_Other lesion_Pleural effusion_Pleural thickening.png -> Aortic enlargement_Cardiomegaly_Consolidation_Lung Opacity_Nodule-Mass_Other lesion_Pleural effusion_Pleural thickening.png\n",
      "Renamed: 857b9d89572e03adb17d0630b33709ea_Aortic enlargement_Cardiomegaly_Consolidation_Infiltration_Lung Opacity_Pleural effusion_Pleural thickening_Pulmonary fibrosis.png -> Aortic enlargement_Cardiomegaly_Consolidation_Infiltration_Lung Opacity_Pleural effusion_Pleural thickening_Pulmonary fibrosis.png\n",
      "Renamed: b42962e103033ae66afb049d00cb477c_Aortic enlargement_ILD_Infiltration_Nodule-Mass_Other lesion_Pleural effusion_Pleural thickening_Pulmonary fibrosis.png -> Aortic enlargement_ILD_Infiltration_Nodule-Mass_Other lesion_Pleural effusion_Pleural thickening_Pulmonary fibrosis.png\n",
      "Renamed: 428b37564fcb598a418df845f366eaff_No finding.png -> No finding_33.png\n",
      "Renamed: 2583527ca7c4a6e278fb4506ba8637ab_Aortic enlargement_Calcification_Cardiomegaly_Lung Opacity_Other lesion_Pleural thickening_Pneumothorax_Pulmonary fibrosis.png -> Aortic enlargement_Calcification_Cardiomegaly_Lung Opacity_Other lesion_Pleural thickening_Pneumothorax_Pulmonary fibrosis.png\n",
      "Renamed: 9943805f08872ab64d994fc84ff1b25d_Aortic enlargement_Consolidation_Infiltration_Lung Opacity_Nodule-Mass_Pleural thickening_Pulmonary fibrosis.png -> Aortic enlargement_Consolidation_Infiltration_Lung Opacity_Nodule-Mass_Pleural thickening_Pulmonary fibrosis.png\n",
      "Renamed: b0624af5299ac0a86e5ffee813f937e1_No finding.png -> No finding_34.png\n",
      "Renamed: 27ecab6bd831b11db5b502f8d6288f29_No finding.png -> No finding_35.png\n"
     ]
    }
   ],
   "source": [
    "import os\n",
    "\n",
    "def rename_files(folder_path):\n",
    "    # Dictionary to track occurrences of each base name\n",
    "    name_counter = {}\n",
    "\n",
    "    # Iterate over each file in the folder\n",
    "    for file_name in os.listdir(folder_path):\n",
    "        # Skip directories, process files only\n",
    "        if os.path.isfile(os.path.join(folder_path, file_name)):\n",
    "            # Extract base name (remove everything before first '_')\n",
    "            if '_' in file_name:\n",
    "                new_name = file_name.split('_', 1)[1]\n",
    "            else:\n",
    "                new_name = file_name\n",
    "\n",
    "            # Handle duplicates\n",
    "            if new_name in name_counter:\n",
    "                name_counter[new_name] += 1\n",
    "                base_name, ext = os.path.splitext(new_name)\n",
    "                unique_name = f\"{base_name}_{name_counter[new_name]}{ext}\"\n",
    "            else:\n",
    "                name_counter[new_name] = 0\n",
    "                unique_name = new_name\n",
    "\n",
    "            # Perform renaming\n",
    "            original_path = os.path.join(folder_path, file_name)\n",
    "            new_path = os.path.join(folder_path, unique_name)\n",
    "\n",
    "            os.rename(original_path, new_path)\n",
    "            print(f\"Renamed: {file_name} -> {unique_name}\")\n",
    "\n",
    "# Specify the folder containing files\n",
    "folder_path = \"sampled_images\"\n",
    "\n",
    "# Call the function to rename files\n",
    "rename_files(folder_path)"
   ]
  },
  {
   "cell_type": "code",
   "execution_count": null,
   "metadata": {},
   "outputs": [],
   "source": []
  }
 ],
 "metadata": {
  "kernelspec": {
   "display_name": "well_xray",
   "language": "python",
   "name": "python3"
  },
  "language_info": {
   "codemirror_mode": {
    "name": "ipython",
    "version": 3
   },
   "file_extension": ".py",
   "mimetype": "text/x-python",
   "name": "python",
   "nbconvert_exporter": "python",
   "pygments_lexer": "ipython3",
   "version": "3.9.17"
  }
 },
 "nbformat": 4,
 "nbformat_minor": 2
}
