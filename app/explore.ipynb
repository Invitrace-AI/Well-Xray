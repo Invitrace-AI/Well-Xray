{
 "cells": [
  {
   "cell_type": "code",
   "execution_count": 2,
   "metadata": {},
   "outputs": [],
   "source": [
    "import pandas as pd"
   ]
  },
  {
   "cell_type": "code",
   "execution_count": 4,
   "metadata": {},
   "outputs": [
    {
     "data": {
      "text/plain": [
       "['Aortic enlargement_proba',\n",
       " 'Atelectasis_proba',\n",
       " 'Calcification_proba',\n",
       " 'Cardiomegaly_proba',\n",
       " 'Consolidation_proba',\n",
       " 'ILD_proba',\n",
       " 'Infiltration_proba',\n",
       " 'Lung Opacity_proba',\n",
       " 'Nodule/Mass_proba',\n",
       " 'Other lesion_proba',\n",
       " 'Pleural effusion_proba',\n",
       " 'Pleural thickening_proba',\n",
       " 'Pneumothorax_proba',\n",
       " 'Pulmonary fibrosis_proba',\n",
       " 'No finding_proba']"
      ]
     },
     "execution_count": 4,
     "metadata": {},
     "output_type": "execute_result"
    }
   ],
   "source": [
    "threshold_df = pd.read_json(f'./save/threshold/vin_cls_v3_val_threshold.json')\n",
    "threshold_dict = threshold_df['G-Mean'].to_dict()\n",
    "# threshold_dict = threshold_df['F1_Score'].to_dict()\n",
    "CATEGORIES = list(threshold_dict.keys())\n",
    "class_proba = [finding+'_proba' for finding in CATEGORIES]\n",
    "class_proba"
   ]
  },
  {
   "cell_type": "code",
   "execution_count": 9,
   "metadata": {},
   "outputs": [
    {
     "name": "stdout",
     "output_type": "stream",
     "text": [
      "(1500, 15)\n"
     ]
    },
    {
     "data": {
      "text/plain": [
       "array([[2.9426054e-04, 2.2396045e-04, 3.3528297e-04, ..., 1.1537689e-04,\n",
       "        3.6031840e-04, 9.9891000e-01],\n",
       "       [2.8567530e-04, 7.9774890e-05, 6.9855683e-04, ..., 5.2153400e-05,\n",
       "        4.0135650e-04, 9.9983380e-01],\n",
       "       [9.9384760e-01, 1.3568772e-02, 2.8936759e-02, ..., 5.0129830e-03,\n",
       "        1.6772324e-01, 1.8362593e-02],\n",
       "       ...,\n",
       "       [9.0325410e-01, 1.3971618e-02, 9.6087650e-02, ..., 4.7003664e-03,\n",
       "        6.1845490e-01, 4.4609107e-02],\n",
       "       [6.5616740e-04, 3.3276160e-04, 1.1255955e-03, ..., 4.6329334e-04,\n",
       "        9.9444420e-04, 9.7909800e-01],\n",
       "       [7.2212030e-04, 1.1592530e-04, 4.2364074e-04, ..., 8.4616760e-05,\n",
       "        3.8251374e-04, 9.9623334e-01]])"
      ]
     },
     "execution_count": 9,
     "metadata": {},
     "output_type": "execute_result"
    }
   ],
   "source": [
    "pred_val = pd.read_csv('save/val_predict/vin_cls_v3_val.csv', usecols=class_proba).values\n",
    "print(pred_val.shape)\n",
    "pred_val"
   ]
  },
  {
   "cell_type": "code",
   "execution_count": 7,
   "metadata": {},
   "outputs": [
    {
     "name": "stdout",
     "output_type": "stream",
     "text": [
      "(63629, 40)\n"
     ]
    },
    {
     "data": {
      "text/plain": [
       "array([[1.98032111e-01, 1.55254025e-02, 1.51339680e-01, ...,\n",
       "        2.78407801e-02, 3.77766858e-03, 1.00034457e-02],\n",
       "       [3.31963226e-02, 4.54194471e-03, 2.11135652e-02, ...,\n",
       "        1.62422694e-02, 3.33467964e-03, 3.19635510e-01],\n",
       "       [9.59286653e-03, 4.79873875e-03, 3.66506167e-02, ...,\n",
       "        1.00877862e-02, 2.40074517e-03, 1.39671594e-01],\n",
       "       ...,\n",
       "       [5.46776414e-01, 5.09443088e-03, 2.04281434e-01, ...,\n",
       "        8.32436383e-02, 3.66099598e-03, 7.74999571e-05],\n",
       "       [7.66321123e-01, 1.48036284e-03, 2.50091162e-02, ...,\n",
       "        1.53642027e-02, 1.04288710e-03, 7.64336146e-05],\n",
       "       [8.03318322e-01, 7.70387182e-04, 1.17977513e-02, ...,\n",
       "        1.27836037e-02, 9.10617644e-04, 9.11620155e-05]], dtype=float32)"
      ]
     },
     "execution_count": 7,
     "metadata": {},
     "output_type": "execute_result"
    }
   ],
   "source": [
    "import pickle\n",
    "\n",
    "with open('save/val_predict/out_val_selectRad_data_pylon_densenet169_ImageNet_1024_V2_0.p', 'rb') as fp:\n",
    "    val_predict = pickle.load(fp)\n",
    "pred_val = val_predict['pred']\n",
    "print(pred_val.shape)\n",
    "pred_val"
   ]
  },
  {
   "cell_type": "code",
   "execution_count": null,
   "metadata": {},
   "outputs": [],
   "source": []
  }
 ],
 "metadata": {
  "kernelspec": {
   "display_name": "well_xray",
   "language": "python",
   "name": "python3"
  },
  "language_info": {
   "codemirror_mode": {
    "name": "ipython",
    "version": 3
   },
   "file_extension": ".py",
   "mimetype": "text/x-python",
   "name": "python",
   "nbconvert_exporter": "python",
   "pygments_lexer": "ipython3",
   "version": "3.9.17"
  }
 },
 "nbformat": 4,
 "nbformat_minor": 2
}
